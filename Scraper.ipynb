from selenium import webdriver
from selenium.webdriver.common.by import By
from selenium.webdriver.support.ui import WebDriverWait
from selenium.webdriver.support import expected_conditions as EC
from selenium.webdriver.chrome.service import Service
from webdriver_manager.chrome import ChromeDriverManager
import pandas as pd
from datetime import datetime, timedelta
import time

# Function to generate a list of dates
def generate_dates(start_date, end_date):
    start = datetime.strptime(start_date, "%d/%m/%Y")
    end = datetime.strptime(end_date, "%d/%m/%Y")
    delta = timedelta(days=1)
    dates = []
    while start <= end:
        dates.append(start.strftime("%d/%m/%Y"))
        start += delta
    return dates

# Setup the WebDriver
driver = webdriver.Chrome(service=Service(ChromeDriverManager().install()))

# Define the date range
start_date = "01/02/2020"
end_date = "30/04/2020"  # Adjust this as needed
dates = generate_dates(start_date, end_date)

# Initialize a dictionary to store dataframes for each date
dataframes = {}

try:
    # Open a new tab for each date
    for index, date in enumerate(dates):
        if index > 0:
            driver.execute_script("window.open('');")
            driver.switch_to.window(driver.window_handles[index])

        # Navigate to the initial page
        initial_url = "http://fcainfoweb.nic.in/reports/report_menu_web.aspx"
        driver.get(initial_url)

        # Fill out the form (adjust these selectors and values as needed)
        driver.find_element(By.NAME, 'ctl00$MainContent$Ddl_Rpt_type').send_keys('Retail')
        driver.find_element(By.NAME, 'ctl00$MainContent$ddl_Language').send_keys('English')
        driver.find_element(By.NAME, 'ctl00$MainContent$Rbl_Rpt_type').send_keys('Price report')
        driver.find_element(By.NAME, 'ctl00$MainContent$Ddl_Rpt_Option0').send_keys('Daily Prices')
        driver.find_element(By.NAME, 'ctl00$MainContent$Txt_FrmDate').send_keys(date)

        # Submit the form
        driver.find_element(By.NAME, 'ctl00$MainContent$btn_getdata1').click()

    # Switch to each tab to extract data
    for index, date in enumerate(dates):
        driver.switch_to.window(driver.window_handles[index])

        # Wait for the redirected page to load
        WebDriverWait(driver, 10).until(EC.presence_of_element_located((By.ID, 'gv0')))

        # Extract the table data
        table = driver.find_element(By.ID, 'gv0')
        rows = table.find_elements(By.TAG_NAME, 'tr')

        # Extract table headers
        headers = [header.text for header in rows[0].find_elements(By.TAG_NAME, 'th')]

        # Extract table rows
        data = []
        for row in rows[1:]:
            cols = row.find_elements(By.TAG_NAME, 'td')
            data.append([col.text for col in cols])

        # Create a DataFrame from the extracted data
        df = pd.DataFrame(data, columns=headers)
        dataframes[date] = df
finally:
    driver.quit()

# Save the data to an Excel file with each worksheet named after the corresponding date
with pd.ExcelWriter('Daily_Prices_3.xlsx') as writer:
    for date, df in dataframes.items():
        df.to_excel(writer, sheet_name=date.replace('/', '-'), index=False)

print("Data saved to Daily_Prices_3.xlsx")
